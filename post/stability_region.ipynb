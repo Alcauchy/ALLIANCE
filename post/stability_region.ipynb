{
 "cells": [
  {
   "cell_type": "code",
   "execution_count": 1,
   "metadata": {},
   "outputs": [],
   "source": [
    "import scipy as sp\n",
    "import numpy as np\n",
    "import os\n",
    "from scipy import sparse\n",
    "from scipy.sparse import linalg"
   ]
  },
  {
   "cell_type": "code",
   "execution_count": 6,
   "metadata": {},
   "outputs": [],
   "source": [
    "A = sparse.load_npz('sparse_matrix.npz')"
   ]
  },
  {
   "cell_type": "code",
   "execution_count": 7,
   "metadata": {},
   "outputs": [
    {
     "data": {
      "text/plain": [
       "<function scipy.sparse._matrix_io.load_npz(file)>"
      ]
     },
     "execution_count": 7,
     "metadata": {},
     "output_type": "execute_result"
    }
   ],
   "source": [
    "sparse.load_npz"
   ]
  },
  {
   "cell_type": "code",
   "execution_count": null,
   "metadata": {},
   "outputs": [],
   "source": []
  },
  {
   "cell_type": "code",
   "execution_count": 8,
   "metadata": {},
   "outputs": [
    {
     "name": "stdout",
     "output_type": "stream",
     "text": [
      " "
     ]
    },
    {
     "data": {
      "text/plain": [
       "         26 function calls in 315.886 seconds\n",
       "\n",
       "   Ordered by: internal time\n",
       "\n",
       "   ncalls  tottime  percall  cumtime  percall filename:lineno(function)\n",
       "        1  315.494  315.494  315.494  315.494 {built-in method scipy.sparse.linalg.dsolve._superlu.gstrf}\n",
       "        1    0.387    0.387  315.884  315.884 <string>:1(<module>)\n",
       "        1    0.004    0.004    0.004    0.004 {built-in method scipy.sparse._sparsetools.csr_has_canonical_format}\n",
       "        1    0.002    0.002  315.886  315.886 {built-in method builtins.exec}\n",
       "        1    0.000    0.000  315.498  315.498 linsolve.py:244(splu)\n",
       "        1    0.000    0.000    0.004    0.004 compressed.py:1055(__get_has_canonical_format)\n",
       "        1    0.000    0.000    0.000    0.000 compressed.py:1076(__set_has_canonical_format)\n",
       "        1    0.000    0.000    0.000    0.000 sputils.py:332(is_pydata_spmatrix)\n",
       "        1    0.000    0.000    0.000    0.000 compressed.py:107(getnnz)\n",
       "        1    0.000    0.000    0.000    0.000 base.py:187(asfptype)\n",
       "        2    0.000    0.000    0.000    0.000 {built-in method builtins.getattr}\n",
       "        2    0.000    0.000    0.000    0.000 base.py:673(__getattr__)\n",
       "        1    0.000    0.000    0.000    0.000 data.py:23(_get_dtype)\n",
       "        1    0.000    0.000    0.000    0.000 base.py:80(get_shape)\n",
       "        1    0.000    0.000    0.000    0.000 {method 'disable' of '_lsprof.Profiler' objects}\n",
       "        1    0.000    0.000    0.004    0.004 compressed.py:1084(sum_duplicates)\n",
       "        1    0.000    0.000    0.000    0.000 base.py:238(nnz)\n",
       "        1    0.000    0.000    0.000    0.000 {built-in method builtins.hasattr}\n",
       "        1    0.000    0.000    0.000    0.000 csc.py:236(isspmatrix_csc)\n",
       "        1    0.000    0.000    0.000    0.000 {built-in method builtins.len}\n",
       "        1    0.000    0.000    0.000    0.000 compressed.py:1115(__set_sorted)\n",
       "        1    0.000    0.000    0.000    0.000 {method 'update' of 'dict' objects}\n",
       "        1    0.000    0.000    0.000    0.000 {method 'get' of 'dict' objects}\n",
       "        1    0.000    0.000    0.000    0.000 {built-in method builtins.isinstance}"
      ]
     },
     "metadata": {},
     "output_type": "display_data"
    }
   ],
   "source": [
    "%%prun\n",
    "linalg.splu(A)"
   ]
  },
  {
   "cell_type": "code",
   "execution_count": 42,
   "metadata": {},
   "outputs": [],
   "source": [
    "w1 = 3\n",
    "w2 = 1\n",
    "w3 = 7\n",
    "w4 = 5\n",
    "xGrid = np.linspace(0,2*np.pi,40)\n",
    "yGrid = np.linspace(0,2*np.pi,40)\n",
    "f1 = np.cos(w1 * xGrid)[:,None] * np.sin(w2 * yGrid)[None,:]\n",
    "df1dx = -w1 * np.sin(w1 * xGrid)[:,None] * np.sin(w1 * yGrid)[None,:]\n",
    "df1dy = np.cos(w1 * xGrid)[:,None] *w2 * np.cos(w1 * yGrid)[None,:]\n",
    "f2 = np.sin(w3 * xGrid)[:,None]* np.sin(w4 * yGrid)[:,None]\n",
    "df2dx = w3 * np.cos(w3 * xGrid)[:,None]* np.sin(w4 * yGrid)[:,None]\n",
    "df2dy = np.sin(w3 * xGrid)[:,None] * w4 * np.cos(w4 * yGrid)[:,None]"
   ]
  },
  {
   "cell_type": "code",
   "execution_count": 43,
   "metadata": {},
   "outputs": [
    {
     "data": {
      "text/plain": [
       "7.771561172376096e-15"
      ]
     },
     "execution_count": 43,
     "metadata": {},
     "output_type": "execute_result"
    }
   ],
   "source": [
    "np.sum(f1*(df1dx * df2dy - df1dy * df2dx))"
   ]
  },
  {
   "cell_type": "code",
   "execution_count": 38,
   "metadata": {},
   "outputs": [
    {
     "data": {
      "text/plain": [
       "-5.329070518200751e-15"
      ]
     },
     "execution_count": 38,
     "metadata": {},
     "output_type": "execute_result"
    }
   ],
   "source": [
    "np.sum(cosx*dcosx*dsiny)"
   ]
  },
  {
   "cell_type": "code",
   "execution_count": 39,
   "metadata": {},
   "outputs": [
    {
     "data": {
      "text/plain": [
       "array([[-0.00000000e+00, -0.00000000e+00, -0.00000000e+00, ...,\n",
       "         0.00000000e+00,  0.00000000e+00,  0.00000000e+00],\n",
       "       [-1.91632064e+00, -3.72424221e+00, -4.67898477e+00, ...,\n",
       "         2.50179638e+00,  3.30606896e-01, -1.91632064e+00],\n",
       "       [ 2.51284987e+00,  2.40395295e+00,  1.74433938e+00, ...,\n",
       "         1.11058348e+00,  2.04608318e+00,  2.51284987e+00],\n",
       "       ...,\n",
       "       [-2.51284987e+00, -2.04608318e+00, -1.11058348e+00, ...,\n",
       "        -1.74433938e+00, -2.40395295e+00, -2.51284987e+00],\n",
       "       [ 1.91632064e+00, -3.30606896e-01, -2.50179638e+00, ...,\n",
       "         4.67898477e+00,  3.72424221e+00,  1.91632064e+00],\n",
       "       [ 8.57252759e-15,  7.59059621e-15,  4.86975072e-15, ...,\n",
       "         4.86975072e-15,  7.59059621e-15,  8.57252759e-15]])"
      ]
     },
     "execution_count": 39,
     "metadata": {},
     "output_type": "execute_result"
    }
   ],
   "source": [
    "(df1dx * df2dy - df1dy * df2dx)"
   ]
  },
  {
   "cell_type": "code",
   "execution_count": 44,
   "metadata": {},
   "outputs": [],
   "source": [
    "w1 = 3\n",
    "w2 = 1\n",
    "w3 = 7\n",
    "w4 = 5\n",
    "xGrid = np.linspace(0,2*np.pi,40)\n",
    "yGrid = np.linspace(0,2*np.pi,40)\n",
    "f1 = np.cos(w1 * xGrid)**2\n",
    "df1dx = -w1 * 2 * np.sin(w1 * xGrid)[:,None] * np.cos(w1 * xGrid)\n",
    "df1dy = np.cos(w1 * xGrid)[:,None] *w2 * np.cos(w1 * yGrid)[None,:]\n",
    "f2 = np.sin(w3 * xGrid)**2\n",
    "df2dx =2* w3 * np.cos(w3 * xGrid)* np.cos(w3 * xGrid)"
   ]
  },
  {
   "cell_type": "code",
   "execution_count": 49,
   "metadata": {},
   "outputs": [
    {
     "data": {
      "text/plain": [
       "3.979039320256561e-13"
      ]
     },
     "execution_count": 49,
     "metadata": {},
     "output_type": "execute_result"
    }
   ],
   "source": [
    "np.sum(f1 * df1dx * df2dx)"
   ]
  },
  {
   "cell_type": "code",
   "execution_count": 50,
   "metadata": {},
   "outputs": [
    {
     "data": {
      "text/plain": [
       "2.2737367544323206e-13"
      ]
     },
     "execution_count": 50,
     "metadata": {},
     "output_type": "execute_result"
    }
   ],
   "source": [
    "np.sum(df1dx*df2dx)"
   ]
  },
  {
   "cell_type": "code",
   "execution_count": 84,
   "metadata": {},
   "outputs": [],
   "source": [
    "w1 = 4\n",
    "w2 = 5\n",
    "w3 = 7\n",
    "w4 = 5\n",
    "xGrid = np.linspace(0,2*np.pi,40)\n",
    "yGrid = np.linspace(0,2*np.pi,40)\n",
    "zGrid = np.linspace(0,2*np.pi,40)\n",
    "xy = np.asarray(np.meshgrid(xGrid,yGrid))\n",
    "\n",
    "f1 = np.cos(w1 * xy[0,...]+w2 * xy[1,...])\n",
    "df1dx = -w1 * np.sin(w1 * xy[0,...]+w2 * xy[1,...])\n",
    "df1dy = -w2 * np.sin(w1 * xy[0,...]+w2 * xy[1,...])\n",
    "\n",
    "f2 = np.sin(w3 * xGrid)[:,None] * np.cos(w4 * yGrid)[None,:]\n",
    "df2dx = w3 * np.cos(w3 * xGrid)[:,None] * np.cos(w4 * yGrid)[None,:]\n",
    "df2dy = - w4 * np.sin(w4 *  yGrid)[None,:] * np.cos(w3 * xGrid)[:,None]"
   ]
  },
  {
   "cell_type": "code",
   "execution_count": 85,
   "metadata": {},
   "outputs": [
    {
     "data": {
      "text/plain": [
       "9.947598300641403e-14"
      ]
     },
     "execution_count": 85,
     "metadata": {},
     "output_type": "execute_result"
    }
   ],
   "source": [
    "np.sum(f1*(df1dx * df2dy - df2dx * df1dy))"
   ]
  },
  {
   "cell_type": "code",
   "execution_count": 86,
   "metadata": {},
   "outputs": [
    {
     "data": {
      "text/plain": [
       "array([ 1.        ,  0.69272435, -0.04026594, -0.74851075, -0.99675731,\n",
       "       -0.63244538,  0.12053668,  0.79944276,  0.98705026,  0.56806475,\n",
       "       -0.20002569, -0.84519009, -0.97094182, -0.5       ,  0.27821746,\n",
       "        0.88545603,  0.94853644,  0.42869256, -0.35460489, -0.91997944,\n",
       "       -0.91997944, -0.35460489,  0.42869256,  0.94853644,  0.88545603,\n",
       "        0.27821746, -0.5       , -0.97094182, -0.84519009, -0.20002569,\n",
       "        0.56806475,  0.98705026,  0.79944276,  0.12053668, -0.63244538,\n",
       "       -0.99675731, -0.74851075, -0.04026594,  0.69272435,  1.        ])"
      ]
     },
     "execution_count": 86,
     "metadata": {},
     "output_type": "execute_result"
    }
   ],
   "source": [
    "f1[:,0]"
   ]
  },
  {
   "cell_type": "code",
   "execution_count": 87,
   "metadata": {},
   "outputs": [
    {
     "data": {
      "text/plain": [
       "array([[0.        , 0.16110732, 0.32221463, ..., 5.96097068, 6.12207799,\n",
       "        6.28318531],\n",
       "       [0.        , 0.16110732, 0.32221463, ..., 5.96097068, 6.12207799,\n",
       "        6.28318531],\n",
       "       [0.        , 0.16110732, 0.32221463, ..., 5.96097068, 6.12207799,\n",
       "        6.28318531],\n",
       "       ...,\n",
       "       [0.        , 0.16110732, 0.32221463, ..., 5.96097068, 6.12207799,\n",
       "        6.28318531],\n",
       "       [0.        , 0.16110732, 0.32221463, ..., 5.96097068, 6.12207799,\n",
       "        6.28318531],\n",
       "       [0.        , 0.16110732, 0.32221463, ..., 5.96097068, 6.12207799,\n",
       "        6.28318531]])"
      ]
     },
     "execution_count": 87,
     "metadata": {},
     "output_type": "execute_result"
    }
   ],
   "source": [
    "xy[0,:]"
   ]
  },
  {
   "cell_type": "code",
   "execution_count": 88,
   "metadata": {},
   "outputs": [
    {
     "data": {
      "text/plain": [
       "array([[0.        , 0.        , 0.        , ..., 0.        , 0.        ,\n",
       "        0.        ],\n",
       "       [0.16110732, 0.16110732, 0.16110732, ..., 0.16110732, 0.16110732,\n",
       "        0.16110732],\n",
       "       [0.32221463, 0.32221463, 0.32221463, ..., 0.32221463, 0.32221463,\n",
       "        0.32221463],\n",
       "       ...,\n",
       "       [5.96097068, 5.96097068, 5.96097068, ..., 5.96097068, 5.96097068,\n",
       "        5.96097068],\n",
       "       [6.12207799, 6.12207799, 6.12207799, ..., 6.12207799, 6.12207799,\n",
       "        6.12207799],\n",
       "       [6.28318531, 6.28318531, 6.28318531, ..., 6.28318531, 6.28318531,\n",
       "        6.28318531]])"
      ]
     },
     "execution_count": 88,
     "metadata": {},
     "output_type": "execute_result"
    }
   ],
   "source": [
    "xy[1,:]"
   ]
  },
  {
   "cell_type": "markdown",
   "metadata": {},
   "source": [
    "# Eigenvalues"
   ]
  },
  {
   "cell_type": "code",
   "execution_count": 2,
   "metadata": {},
   "outputs": [],
   "source": [
    "from scipy.optimize import fsolve\n",
    "def stability(dt,maxEig):\n",
    "    mu = dt * maxEig\n",
    "    return  np.abs(1 + mu + 1./2.*mu**2 + 1./6. * mu**3 + 1./24. * mu**4)\n",
    "\n",
    "def stabilityEquation(dt,maxEig):\n",
    "    mu = dt * maxEig\n",
    "    return  np.abs(1 + mu + 1./2.*mu**2 + 1./6. * mu**3 + 1./24. * mu**4) - 1"
   ]
  },
  {
   "cell_type": "code",
   "execution_count": 13,
   "metadata": {},
   "outputs": [],
   "source": [
    "nz = 5\n",
    "nm = 128\n",
    "m = np.array([1,1/1854])\n",
    "T = np.array([1,1])\n",
    "vT = np.sqrt(2*T/m)\n",
    "kz = 2 * np.pi * np.arange(nz)"
   ]
  },
  {
   "cell_type": "code",
   "execution_count": 14,
   "metadata": {},
   "outputs": [],
   "source": [
    "sqrtM = np.array([np.sqrt((m+1)/2) for m in range(nm)])"
   ]
  },
  {
   "cell_type": "code",
   "execution_count": 15,
   "metadata": {},
   "outputs": [],
   "source": [
    "RHS = kz[:,None,None] * sqrtM[None,:,None] * vT[None,None,:]"
   ]
  },
  {
   "cell_type": "code",
   "execution_count": 16,
   "metadata": {},
   "outputs": [],
   "source": [
    "Ar = sparse.diags([RHS.flatten(),RHS.flatten()], [-1, 1]).toarray()"
   ]
  },
  {
   "cell_type": "code",
   "execution_count": 20,
   "metadata": {},
   "outputs": [
    {
     "data": {
      "text/plain": [
       "12527.678850303819"
      ]
     },
     "execution_count": 20,
     "metadata": {},
     "output_type": "execute_result"
    }
   ],
   "source": [
    "np.amax(np.sum(Ar,axis = 0))"
   ]
  },
  {
   "cell_type": "code",
   "execution_count": 21,
   "metadata": {},
   "outputs": [
    {
     "data": {
      "text/plain": [
       "7.982324674420818e-05"
      ]
     },
     "execution_count": 21,
     "metadata": {},
     "output_type": "execute_result"
    }
   ],
   "source": [
    "1/np.amax(np.sum(Ar,axis = 1))"
   ]
  },
  {
   "cell_type": "code",
   "execution_count": 22,
   "metadata": {},
   "outputs": [
    {
     "data": {
      "text/plain": [
       "24486.668684523367"
      ]
     },
     "execution_count": 22,
     "metadata": {},
     "output_type": "execute_result"
    }
   ],
   "source": [
    "2*np.amax(RHS)"
   ]
  },
  {
   "cell_type": "code",
   "execution_count": 2,
   "metadata": {},
   "outputs": [],
   "source": [
    "from matplotlib import pyplot as plt\n",
    "#plt.matshow(np.abs(Ar))"
   ]
  },
  {
   "cell_type": "code",
   "execution_count": 23,
   "metadata": {},
   "outputs": [],
   "source": [
    "eigenvalues = sp.sparse.linalg.eigs(Ar)[0]"
   ]
  },
  {
   "cell_type": "code",
   "execution_count": 24,
   "metadata": {},
   "outputs": [
    {
     "data": {
      "text/plain": [
       "12417.378061840267"
      ]
     },
     "execution_count": 24,
     "metadata": {},
     "output_type": "execute_result"
    }
   ],
   "source": [
    "np.amax(np.abs(eigenvalues))"
   ]
  },
  {
   "cell_type": "code",
   "execution_count": 11,
   "metadata": {},
   "outputs": [
    {
     "name": "stdout",
     "output_type": "stream",
     "text": [
      "max timestep = 0.005101881868528367\n",
      "optimized timestep = 0.004846787775101949\n"
     ]
    }
   ],
   "source": [
    "n = int(1.5 * np.ceil(np.amax(np.imag(eigenvalues))))\n",
    "dt = sp.optimize.fsolve(stabilityEquation, x0 = [1], args =  1.j * np.amax(np.imag(eigenvalues)))[0]\n",
    "print(f\"max timestep = {dt}\")\n",
    "dt *=0.95\n",
    "print(f\"optimized timestep = {dt}\")\n",
    "lamR = np.linspace(-n,n/10,n)\n",
    "x = np.linspace(-n,n/10,n)\n",
    "lamR = lamR[:,None] * np.ones(2*n*n).reshape(n,2*n)\n",
    "lamI = np.linspace(-n,n,2*n)\n",
    "y = np.linspace(-n,n,2*n)\n",
    "lamI = lamI[None,:] * np.ones(2*n*n).reshape(n,2*n)\n",
    "lam = lamR + 1.j * lamI\n",
    "mu = lam*dt\n",
    "xx,yy = np.meshgrid(x,y)"
   ]
  },
  {
   "cell_type": "code",
   "execution_count": 12,
   "metadata": {},
   "outputs": [
    {
     "data": {
      "text/plain": [
       "0.7002401653484459"
      ]
     },
     "execution_count": 12,
     "metadata": {},
     "output_type": "execute_result"
    }
   ],
   "source": [
    "stability(dt,1.j * np.amax(np.imag(eigenvalues)))"
   ]
  },
  {
   "cell_type": "code",
   "execution_count": 17,
   "metadata": {},
   "outputs": [],
   "source": [
    "R = 1 + mu + 1./2.*mu**2 + 1./6. * mu**3 + 1./24. * mu**4"
   ]
  },
  {
   "cell_type": "code",
   "execution_count": 18,
   "metadata": {},
   "outputs": [
    {
     "name": "stderr",
     "output_type": "stream",
     "text": [
      "/tmp/ipykernel_3979/3349601645.py:2: MatplotlibDeprecationWarning: shading='flat' when X and Y have the same dimensions as C is deprecated since 3.3.  Either specify the corners of the quadrilaterals with X and Y, or pass shading='auto', 'nearest' or 'gouraud', or set rcParams['pcolor.shading'].  This will become an error two minor releases later.\n",
      "  plt.pcolormesh(xx,yy,np.abs(R).T)\n"
     ]
    },
    {
     "data": {
      "text/plain": [
       "<matplotlib.collections.PathCollection at 0x7f30f5f3dfd0>"
      ]
     },
     "execution_count": 18,
     "metadata": {},
     "output_type": "execute_result"
    },
    {
     "data": {
      "image/png": "[encoded data removed]",
      "text/plain": [
       "<Figure size 432x288 with 2 Axes>"
      ]
     },
     "metadata": {
      "needs_background": "light"
     },
     "output_type": "display_data"
    }
   ],
   "source": [
    "plt.contour(xx,yy,np.abs(R).T,[1],colors = \"w\")\n",
    "plt.pcolormesh(xx,yy,np.abs(R).T)\n",
    "plt.colorbar()\n",
    "plt.clim([0,1])\n",
    "plt.scatter(np.real(eigenvalues),\n",
    "           np.imag(eigenvalues))"
   ]
  },
  {
   "cell_type": "code",
   "execution_count": 56,
   "metadata": {},
   "outputs": [],
   "source": []
  },
  {
   "cell_type": "code",
   "execution_count": 19,
   "metadata": {},
   "outputs": [],
   "source": [
    "dic_all = {\n",
    "    \"sim_box\" : dic_box,\n",
    "    \"particles\" : dic_particles,\n",
    "    \"initial\" : dic_initial,\n",
    "    \"solver\" : dic_solver,\n",
    "    \"save\" : dic_saving,\n",
    "    \"prop\" : dic_systProp,\n",
    "    \"spectre\" : dic_spectr\n",
    "}"
   ]
  },
  {
   "cell_type": "markdown",
   "metadata": {},
   "source": [
    "# parameter file"
   ]
  },
  {
   "cell_type": "code",
   "execution_count": null,
   "metadata": {},
   "outputs": [],
   "source": [
    "def writeSimBox(f,boxDic):\n",
    "    f.write(\"///////////////////////////\\n\")\n",
    "    f.write(\"// simulation box size\\n\")\n",
    "    f.write(\"///////////////////////////\\n\")\n",
    "    for key in boxDic :\n",
    "        f.write(f\"{key} : {boxDic[key]}\\n\")\n",
    "    f.write(\"\\n\")\n",
    "        \n",
    "def writeDealiasing(f,param):\n",
    "    f.write(\"/////////////////////////////\\n\")\n",
    "    f.write(\"// dealiasing routine\\n\")\n",
    "    f.write(\"// 0 - no dealiasing is used\\n\")\n",
    "    f.write(\"// 1 - 2/3 rule\\n\")\n",
    "    f.write(\"/////////////////////////////\\n\")\n",
    "    f.write(f\"dealiasing : {param}\\n\\n\")\n",
    "\n",
    "def writeParticles(f, boxPar):\n",
    "    f.write(\"/////////////////////////////\\n\")\n",
    "    f.write(\"//\tparticles properties\\n\")\n",
    "    f.write(\"//\t\tformat:\\n\")\n",
    "    f.write(\"// \t\t\tparticle: n       \\\\\\\\index of the particle\\n\")\n",
    "    f.write(\"//\t\t\t\t\tdensity: dens \\\\\\\\ densiity\\n\")\n",
    "    f.write(\"//\t\t\t\t\tmass: m   \t  \\\\\\\\mass of the particle\\n\")\n",
    "    f.write(\"//\t\t\t\t\tcharge: q \t  \\\\\\\\charge of the particle\\n\")\n",
    "    f.write(\"//                 T: T          \\\\\\\\temperature of the particle\\n\")\n",
    "    f.write(\"/////////////////////////////\\n\")\n",
    "    for particle in range(boxPar[\"particles\"]):\n",
    "        f.write(f\"particle : {particle}\\n\")\n",
    "        for key in boxPar:\n",
    "            if key != \"particles\":\n",
    "                f.write(f\"\t{key} : {boxPar[key][particle]}\\n\")\n",
    "        f.write(\"\\n\")\n",
    "            \n",
    "def writeDiagnostics(f, param):\n",
    "    f.write(\"///////////////////////////\\n\")\n",
    "    f.write(\"// system properties\\n\")\n",
    "    f.write(\"///////////////////////////\\n\")\n",
    "    f.write(f\"compute_every : {param}\\n\")\n",
    "    f.write(\"\\n\")\n",
    "    \n",
    "def writeInital(f, initialDic):\n",
    "    f.write(\"///////////////////////////\\n\")\n",
    "    f.write(\"// initial conditions\\n\")\n",
    "    f.write(\"///////////////////////////\\n\")\n",
    "    initial = initialDic[\"initial\"]\n",
    "    sim_name = initialDic[\"simulation_name\"]\n",
    "    f.write(f\"initial : {initial} //// 0 - random, 1 - from file\\n\")\n",
    "    f.write(f\"simulation_name : {sim_name} \\n\")\n",
    "    f.write(\"\\n\")\n",
    "\n",
    "def writeSolver(f, solverDic):\n",
    "    f.write(\"///////////////////////////\\n\")\n",
    "    f.write(\"// solver\\n\")\n",
    "    f.write(\"///////////////////////////\\n\")\n",
    "    for key in solverDic :\n",
    "        if key == \"dt\":\n",
    "            f.write(f\"{key} : {solverDic[key]:.6f}\\n\")\n",
    "        else:\n",
    "            f.write(f\"{key} : {solverDic[key]}\\n\")\n",
    "        \n",
    "    f.write(\"\\n\")\n",
    "    \n",
    "def writeSaving(f, savingDic):\n",
    "    f.write(\"///////////////////////////\\n\")\n",
    "    f.write(\"// saving\\n\")\n",
    "    f.write(\"///////////////////////////\\n\")\n",
    "    for key in savingDic:\n",
    "        f.write(f\"{key} : {savingDic[key]}\\n\")\n",
    "    f.write(\"\\n\")\n",
    "        \n",
    "def writeSystProp(f, propDic):\n",
    "    f.write(\"///////////////////////////\\n\")\n",
    "    f.write(\"// system properties\\n\")\n",
    "    f.write(\"///////////////////////////\\n\")\n",
    "    for key in propDic:\n",
    "        f.write(f\"{key} : {propDic[key]}\\n\")\n",
    "    f.write(\"\\n\")\n",
    "\n",
    "def writeSpectrum(f, specDic):\n",
    "    f.write(\"///////////////////////////\\n\")\n",
    "    f.write(\"// spectrum\\n\")\n",
    "    f.write(\"///////////////////////////\\n\")\n",
    "    for key in specDic:\n",
    "        f.write(f\"{key} : {specDic[key]}\\n\")\n",
    "    f.write(\"\\n\")\n",
    "        "
   ]
  },
  {
   "cell_type": "code",
   "execution_count": null,
   "metadata": {},
   "outputs": [],
   "source": [
    "def createParameterFile(filename,allDic):\n",
    "    with open(filename, 'w') as f:\n",
    "        writeSimBox(f,allDic[\"sim_box\"])\n",
    "        writeDealiasing(f,1)\n",
    "        writeParticles(f, allDic[\"particles\"])\n",
    "        writeDiagnostics(f, 0)\n",
    "        writeSystProp(f, allDic[\"prop\"])\n",
    "        writeInital(f, allDic[\"initial\"])\n",
    "        writeSolver(f, allDic[\"solver\"])\n",
    "        writeSaving(f, allDic[\"save\"])\n",
    "        writeSpectrum(f, allDic[\"spectre\"])"
   ]
  },
  {
   "cell_type": "code",
   "execution_count": null,
   "metadata": {},
   "outputs": [],
   "source": [
    "createParameterFile(\"test.txt\",dic_all)"
   ]
  },
  {
   "cell_type": "markdown",
   "metadata": {},
   "source": [
    "# SIM LOOP"
   ]
  },
  {
   "cell_type": "code",
   "execution_count": 55,
   "metadata": {},
   "outputs": [],
   "source": [
    "from scipy.optimize import fsolve\n",
    "def stability(dt,maxEig):\n",
    "    mu = dt * maxEig\n",
    "    return  np.abs(1 + mu + 1./2.*mu**2 + 1./6. * mu**3 + 1./24. * mu**4)\n",
    "\n",
    "def stabilityEquation(dt,maxEig):\n",
    "    mu = dt * maxEig\n",
    "    return  np.abs(1 + mu + 1./2.*mu**2 + 1./6. * mu**3 + 1./24. * mu**4) - 1"
   ]
  },
  {
   "cell_type": "code",
   "execution_count": 56,
   "metadata": {},
   "outputs": [],
   "source": [
    "nz = 5\n",
    "nm = 128\n",
    "m = np.array([1,1])\n",
    "T = np.array([1,1])\n",
    "vT = np.sqrt(2*T/m)\n",
    "kz = 2 * np.pi * np.arange(nz)"
   ]
  },
  {
   "cell_type": "code",
   "execution_count": 57,
   "metadata": {},
   "outputs": [],
   "source": [
    "sqrtM = np.array([np.sqrt((m+1)/2) for m in range(nm)])"
   ]
  },
  {
   "cell_type": "code",
   "execution_count": 58,
   "metadata": {},
   "outputs": [],
   "source": [
    "RHS = 1.j * kz[:,None,None] * sqrtM[None,:,None] * vT[None,None,:]"
   ]
  },
  {
   "cell_type": "code",
   "execution_count": 59,
   "metadata": {},
   "outputs": [],
   "source": [
    "Ar = sparse.diags([RHS.flatten(),RHS.flatten()], [-1, 1]).toarray()"
   ]
  },
  {
   "cell_type": "code",
   "execution_count": 60,
   "metadata": {},
   "outputs": [],
   "source": [
    "from matplotlib import pyplot as plt\n",
    "#plt.matshow(np.abs(Ar))"
   ]
  },
  {
   "cell_type": "code",
   "execution_count": 61,
   "metadata": {},
   "outputs": [],
   "source": [
    "eigenvalues = sp.linalg.eig(Ar)[0]"
   ]
  },
  {
   "cell_type": "code",
   "execution_count": 62,
   "metadata": {},
   "outputs": [
    {
     "name": "stdout",
     "output_type": "stream",
     "text": [
      "max timestep = 0.005101881868528367\n",
      "optimized timestep = 0.004081505494822694\n"
     ]
    }
   ],
   "source": [
    "SAFETY_FACTOR = 0.8\n",
    "n = int(1.5 * np.ceil(np.amax(np.imag(eigenvalues))))\n",
    "dt = sp.optimize.fsolve(stabilityEquation, x0 = [1], args =  1.j * np.amax(np.imag(eigenvalues)))[0]\n",
    "print(f\"max timestep = {dt}\")\n",
    "dt *=SAFETY_FACTOR\n",
    "print(f\"optimized timestep = {dt}\")\n",
    "lamR = np.linspace(-n,n/10,n)\n",
    "x = np.linspace(-n,n/10,n)\n",
    "lamR = lamR[:,None] * np.ones(2*n*n).reshape(n,2*n)\n",
    "lamI = np.linspace(-n,n,2*n)\n",
    "y = np.linspace(-n,n,2*n)\n",
    "lamI = lamI[None,:] * np.ones(2*n*n).reshape(n,2*n)\n",
    "lam = lamR + 1.j * lamI\n",
    "mu = lam*dt\n",
    "xx,yy = np.meshgrid(x,y)"
   ]
  },
  {
   "cell_type": "code",
   "execution_count": 70,
   "metadata": {},
   "outputs": [
    {
     "data": {
      "text/plain": [
       "0.7002401653484459"
      ]
     },
     "execution_count": 70,
     "metadata": {},
     "output_type": "execute_result"
    }
   ],
   "source": [
    "stability(dt,1.j * np.amax(np.imag(eigenvalues)))"
   ]
  },
  {
   "cell_type": "code",
   "execution_count": 71,
   "metadata": {},
   "outputs": [],
   "source": [
    "R = 1 + mu + 1./2.*mu**2 + 1./6. * mu**3 + 1./24. * mu**4"
   ]
  },
  {
   "cell_type": "code",
   "execution_count": 72,
   "metadata": {},
   "outputs": [
    {
     "name": "stderr",
     "output_type": "stream",
     "text": [
      "/tmp/ipykernel_3979/3349601645.py:2: MatplotlibDeprecationWarning: shading='flat' when X and Y have the same dimensions as C is deprecated since 3.3.  Either specify the corners of the quadrilaterals with X and Y, or pass shading='auto', 'nearest' or 'gouraud', or set rcParams['pcolor.shading'].  This will become an error two minor releases later.\n",
      "  plt.pcolormesh(xx,yy,np.abs(R).T)\n"
     ]
    },
    {
     "data": {
      "text/plain": [
       "<matplotlib.collections.PathCollection at 0x7f30fbb96880>"
      ]
     },
     "execution_count": 72,
     "metadata": {},
     "output_type": "execute_result"
    },
    {
     "data": {
      "image/png": "[encoded data removed]",
      "text/plain": [
       "<Figure size 432x288 with 2 Axes>"
      ]
     },
     "metadata": {
      "needs_background": "light"
     },
     "output_type": "display_data"
    }
   ],
   "source": [
    "plt.contour(xx,yy,np.abs(R).T,[1],colors = \"w\")\n",
    "plt.pcolormesh(xx,yy,np.abs(R).T)\n",
    "plt.colorbar()\n",
    "plt.clim([0,1])\n",
    "plt.scatter(np.real(eigenvalues),\n",
    "           np.imag(eigenvalues))"
   ]
  },
  {
   "cell_type": "code",
   "execution_count": 73,
   "metadata": {},
   "outputs": [],
   "source": [
    "dt_list = [dt/x for x in [1,2,3,4,6,8,12,16,24]]\n",
    "timesteps = [int(np.ceil(1000 * dt_list[0] / timestep)) for timestep in dt_list]\n",
    "\n",
    "for i in range(len(dt_list)):\n",
    "    dt = dt_list[i]\n",
    "    Nt = timesteps[i]\n",
    "    dic_all[\"solver\"][\"dt\"] = dt\n",
    "    dic_all[\"solver\"][\"timesteps\"] = Nt\n",
    "    createParameterFile(f\"test_{i}.txt\",dic_all)"
   ]
  },
  {
   "cell_type": "code",
   "execution_count": 74,
   "metadata": {},
   "outputs": [
    {
     "data": {
      "text/plain": [
       "[0.004846787775101949,\n",
       " 0.0024233938875509744,\n",
       " 0.0016155959250339828,\n",
       " 0.0012116969437754872,\n",
       " 0.0008077979625169914,\n",
       " 0.0006058484718877436,\n",
       " 0.0004038989812584957,\n",
       " 0.0003029242359438718,\n",
       " 0.00020194949062924786]"
      ]
     },
     "execution_count": 74,
     "metadata": {},
     "output_type": "execute_result"
    }
   ],
   "source": [
    "dt_list"
   ]
  },
  {
   "cell_type": "code",
   "execution_count": 75,
   "metadata": {},
   "outputs": [
    {
     "data": {
      "text/plain": [
       "[1000, 2000, 3000, 4000, 6000, 8000, 12000, 16000, 24000]"
      ]
     },
     "execution_count": 75,
     "metadata": {},
     "output_type": "execute_result"
    }
   ],
   "source": [
    "timesteps"
   ]
  },
  {
   "cell_type": "code",
   "execution_count": 76,
   "metadata": {},
   "outputs": [
    {
     "ename": "KeyError",
     "evalue": "'dic_box'",
     "output_type": "error",
     "traceback": [
      "\u001b[0;31m---------------------------------------------------------------------------\u001b[0m",
      "\u001b[0;31mKeyError\u001b[0m                                  Traceback (most recent call last)",
      "\u001b[0;32m/tmp/ipykernel_3979/3438766175.py\u001b[0m in \u001b[0;36m<module>\u001b[0;34m\u001b[0m\n\u001b[0;32m----> 1\u001b[0;31m \u001b[0mdic_all\u001b[0m\u001b[0;34m[\u001b[0m\u001b[0;34m\"dic_box\"\u001b[0m\u001b[0;34m]\u001b[0m\u001b[0;34m\u001b[0m\u001b[0;34m\u001b[0m\u001b[0m\n\u001b[0m",
      "\u001b[0;31mKeyError\u001b[0m: 'dic_box'"
     ]
    }
   ],
   "source": [
    "dic_all[\"dic_box\"]"
   ]
  },
  {
   "cell_type": "code",
   "execution_count": 77,
   "metadata": {},
   "outputs": [
    {
     "data": {
      "text/plain": [
       "{'sim_box': {'nkx': 8, 'nky': 8, 'nkz': 5, 'nm': 128, 'nl': 2, 'ns': 2},\n",
       " 'particles': {'particles': 2,\n",
       "  'density': [1, 1],\n",
       "  'charge': [-1, 1],\n",
       "  'mass': [1, 1],\n",
       "  'T': [1, 1]},\n",
       " 'initial': {'initial': 0, 'simulation_name': 'checkpoint.h5'},\n",
       " 'solver': {'timesteps': 24000, 'dt': 0.00020194949062924786},\n",
       " 'save': {'save_directory': 'test',\n",
       "  'checkpoints': 2,\n",
       "  'iter_checkpoint': 100,\n",
       "  'save_distribution': 0,\n",
       "  'iter_distribution': 100,\n",
       "  'save_EMfield': 0,\n",
       "  'iter_EMfield': 100,\n",
       "  'save_diagnostics': 1,\n",
       "  'iter_diagnostics': 10},\n",
       " 'prop': {'electromagnetic': 1, 'adiabatic': 0, 'beta': 1.0},\n",
       " 'spectre': {'compute_k': 10,\n",
       "  'compute_m': 10,\n",
       "  'k_shells': 8,\n",
       "  'first_shell': 0.0,\n",
       "  'last_shell': 6.14}}"
      ]
     },
     "execution_count": 77,
     "metadata": {},
     "output_type": "execute_result"
    }
   ],
   "source": [
    "dic_all"
   ]
  },
  {
   "cell_type": "markdown",
   "metadata": {
    "tags": []
   },
   "source": [
    "# CONVERGENCE TEST LOOP"
   ]
  },
  {
   "cell_type": "code",
   "execution_count": 13,
   "metadata": {},
   "outputs": [],
   "source": [
    "from scipy.optimize import fsolve\n",
    "from matplotlib import pyplot as plt\n",
    "def stability(dt,maxEig):\n",
    "    mu = dt * maxEig\n",
    "    return  np.abs(1 + mu + 1./2.*mu**2 + 1./6. * mu**3 + 1./24. * mu**4)\n",
    "\n",
    "def stabilityEquation(dt,maxEig):\n",
    "    mu = dt * maxEig\n",
    "    return  np.abs(1 + mu + 1./2.*mu**2 + 1./6. * mu**3 + 1./24. * mu**4) - 1"
   ]
  },
  {
   "cell_type": "code",
   "execution_count": 23,
   "metadata": {},
   "outputs": [],
   "source": [
    "# prepare work folder \n",
    "HOME_PATH = \"/home\"\n",
    "USER_PATH = \"alcauchy\"\n",
    "PROJECTS_PATH = \"CLionProjects\"\n",
    "PROJECT_FOLDER = \"Alliance_alpha_1.0\"\n",
    "WORK_FOLDER = \"wrk\"\n",
    "BIN_FOLDER = \"bin\"\n",
    "SIM_FOLDER = \"linear_convergence\"\n",
    "SIM_PATH = os.path.join(HOME_PATH,\n",
    "                        USER_PATH,\n",
    "                        PROJECTS_PATH,\n",
    "                        PROJECT_FOLDER,\n",
    "                        WORK_FOLDER,\n",
    "                        SIM_FOLDER)\n",
    "BIN_PATH = os.path.join(HOME_PATH,\n",
    "                        USER_PATH,\n",
    "                        PROJECTS_PATH,\n",
    "                        PROJECT_FOLDER,\n",
    "                        BIN_FOLDER)\n"
   ]
  },
  {
   "cell_type": "code",
   "execution_count": 24,
   "metadata": {},
   "outputs": [
    {
     "data": {
      "text/plain": [
       "'/home/alcauchy/CLionProjects/Alliance_alpha_1.0/bin'"
      ]
     },
     "execution_count": 24,
     "metadata": {},
     "output_type": "execute_result"
    }
   ],
   "source": [
    "BIN_PATH"
   ]
  },
  {
   "cell_type": "code",
   "execution_count": 25,
   "metadata": {},
   "outputs": [
    {
     "name": "stdout",
     "output_type": "stream",
     "text": [
      "noice\n"
     ]
    }
   ],
   "source": [
    "if os.path.isdir(SIM_PATH):\n",
    "    print(\"noice\")"
   ]
  },
  {
   "cell_type": "code",
   "execution_count": 26,
   "metadata": {},
   "outputs": [],
   "source": [
    "nz = 5\n",
    "nm = 128\n",
    "m = np.array([1/1836,1])\n",
    "T = np.array([1,1])\n",
    "vT = np.sqrt(2*T/m)\n",
    "kz = 2 * np.pi * np.arange(nz)"
   ]
  },
  {
   "cell_type": "code",
   "execution_count": 27,
   "metadata": {},
   "outputs": [],
   "source": [
    "sqrtM = np.array([np.sqrt((m+1)/2) for m in range(nm)])\n",
    "RHS = 1.j * kz[:,None,None] * sqrtM[None,:,None] * vT[None,None,:]\n",
    "Ar = sparse.diags([RHS.flatten(),RHS.flatten()], [-1, 1]).toarray()"
   ]
  },
  {
   "cell_type": "code",
   "execution_count": 28,
   "metadata": {},
   "outputs": [],
   "source": [
    "dic_box = {\n",
    "    \"nkx\" : 8,\n",
    "    \"nky\" : 8,\n",
    "    \"nz\" : 8,\n",
    "    \"nm\"  : nm,\n",
    "    \"nl\"  : 2,\n",
    "    \"ns\"  : 2\n",
    "}\n",
    "\n",
    "dic_particles = {\n",
    "    \"particles\" : 2,\n",
    "    \"density\"   : [1,1],\n",
    "    \"charge\"    : [-1, 1],\n",
    "    \"mass\"      : m,\n",
    "    \"T\"         : T\n",
    "}\n",
    "\n",
    "dic_initial = {\n",
    "    \"initial\" : 0,\n",
    "    \"simulation_name\" : \"checkpoint.h5\"\n",
    "}\n",
    "\n",
    "dic_solver = {\n",
    "    \"timesteps\" : 2000,\n",
    "    \"dt\"        : 0.0075\n",
    "}\n",
    "\n",
    "dic_saving = {\n",
    "    \"save_directory\" : \"test\",\n",
    "    \"checkpoints\" : 0,\n",
    "    \"iter_checkpoint\" : 100,\n",
    "    \"save_distribution\" : 0,\n",
    "    \"iter_distribution\" : 100,\n",
    "    \"save_EMfield\" : 0,\n",
    "    \"iter_EMfield\" : 100,\n",
    "    \"save_diagnostics\" : 1,\n",
    "    \"iter_diagnostics\" : 10\n",
    "}\n",
    "\n",
    "dic_systProp = {\n",
    "    \"electromagnetic\" : 1,\n",
    "    \"adiabatic\" : 0, \n",
    "    \"beta\" : 1.0\t\n",
    "}\n",
    "\n",
    "dic_spectr = {\n",
    "    \"compute_k\" : 10,\n",
    "    \"compute_m\" : 10,\n",
    "    \"k_shells\" : 8,\n",
    "    \"first_shell\" : 0.0,\n",
    "    \"last_shell\" : 6.14\n",
    "}"
   ]
  },
  {
   "cell_type": "code",
   "execution_count": 29,
   "metadata": {},
   "outputs": [],
   "source": [
    "dic_all = {\n",
    "    \"sim_box\" : dic_box,\n",
    "    \"particles\" : dic_particles,\n",
    "    \"initial\" : dic_initial,\n",
    "    \"solver\" : dic_solver,\n",
    "    \"save\" : dic_saving,\n",
    "    \"prop\" : dic_systProp,\n",
    "    \"spectre\" : dic_spectr\n",
    "}"
   ]
  },
  {
   "cell_type": "code",
   "execution_count": 30,
   "metadata": {},
   "outputs": [],
   "source": [
    "eigenvalues = sp.linalg.eig(Ar)[0]"
   ]
  },
  {
   "cell_type": "code",
   "execution_count": 99,
   "metadata": {},
   "outputs": [
    {
     "name": "stdout",
     "output_type": "stream",
     "text": [
      "max timestep = 0.00022887292572869452\n",
      "optimized timestep = 0.00011443646286434726\n"
     ]
    }
   ],
   "source": [
    "SAFETY_FACTOR = 0.5\n",
    "n = int(1.5 * np.ceil(np.amax(np.imag(eigenvalues))))*1.5\n",
    "dt = sp.optimize.fsolve(stabilityEquation, x0 = [1], args =  1.j * np.amax(np.imag(eigenvalues)))[0]\n",
    "print(f\"max timestep = {dt}\")\n",
    "dt *=SAFETY_FACTOR\n",
    "print(f\"optimized timestep = {dt}\")\n",
    "Nn = 500\n",
    "lamR = np.linspace(-n,n/10,Nn)\n",
    "x = np.linspace(-n,n/10,Nn)\n",
    "lamR = lamR[:,None] * np.ones(2*Nn*Nn).reshape(Nn,2*Nn)\n",
    "lamI = np.linspace(-n,n,2*Nn)\n",
    "y = np.linspace(-n,n,2*Nn)\n",
    "lamI = lamI[None,:] * np.ones(2*Nn*Nn).reshape(Nn,2*Nn)\n",
    "lam = lamR + 1.j * lamI\n",
    "mu = lam*dt\n",
    "xx,yy = np.meshgrid(x,y)"
   ]
  },
  {
   "cell_type": "code",
   "execution_count": 100,
   "metadata": {},
   "outputs": [
    {
     "data": {
      "text/plain": [
       "0.9574271077563381"
      ]
     },
     "execution_count": 100,
     "metadata": {},
     "output_type": "execute_result"
    }
   ],
   "source": [
    "stability(dt,1.j * np.amax(np.imag(eigenvalues)))"
   ]
  },
  {
   "cell_type": "code",
   "execution_count": 101,
   "metadata": {},
   "outputs": [],
   "source": [
    "R = 1 + mu + 1./2.*mu**2 + 1./6. * mu**3 + 1./24. * mu**4"
   ]
  },
  {
   "cell_type": "code",
   "execution_count": 102,
   "metadata": {},
   "outputs": [
    {
     "name": "stderr",
     "output_type": "stream",
     "text": [
      "/tmp/ipykernel_3005/1548241714.py:4: MatplotlibDeprecationWarning: shading='flat' when X and Y have the same dimensions as C is deprecated since 3.3.  Either specify the corners of the quadrilaterals with X and Y, or pass shading='auto', 'nearest' or 'gouraud', or set rcParams['pcolor.shading'].  This will become an error two minor releases later.\n",
      "  im1 = ax.pcolormesh(xx,yy,np.abs(R).T,vmin=0, vmax=1,rasterized=True)\n"
     ]
    },
    {
     "data": {
      "image/png": "[encoded data removed]",
      "text/plain": [
       "<Figure size 432x288 with 2 Axes>"
      ]
     },
     "metadata": {
      "needs_background": "light"
     },
     "output_type": "display_data"
    }
   ],
   "source": [
    "fig = plt.figure()\n",
    "ax = fig.add_subplot(111)\n",
    "ax.contour(xx,yy,np.abs(R).T,[1],colors = \"w\")\n",
    "im1 = ax.pcolormesh(xx,yy,np.abs(R).T,vmin=0, vmax=1,rasterized=True)\n",
    "#cbar = plt.colorbar()\n",
    "#cbar.set_label(r\"$| S |$\")\n",
    "#plt.clim([0,1])\n",
    "cbar = fig.colorbar(im1, ax=ax)\n",
    "cbar.set_label(r\"$| S |$\")\n",
    "\n",
    "ax.scatter(np.real(eigenvalues),\n",
    "           np.imag(eigenvalues),color = \"k\",s = 1)\n",
    "ax.set_ylabel(r\"$\\Im(dt\\lambda )$\")\n",
    "ax.set_xlabel(r\"$\\Re(dt \\lambda )$\")\n",
    "ax.set_aspect(0.5)\n",
    "plt.savefig(\"stabilityRegion.eps\")"
   ]
  },
  {
   "cell_type": "code",
   "execution_count": 3,
   "metadata": {
    "tags": []
   },
   "outputs": [
    {
     "ename": "NameError",
     "evalue": "name 'dt' is not defined",
     "output_type": "error",
     "traceback": [
      "\u001b[0;31m---------------------------------------------------------------------------\u001b[0m",
      "\u001b[0;31mNameError\u001b[0m                                 Traceback (most recent call last)",
      "\u001b[0;32m/tmp/ipykernel_6955/786654158.py\u001b[0m in \u001b[0;36m<module>\u001b[0;34m\u001b[0m\n\u001b[1;32m      1\u001b[0m \u001b[0minitialNt\u001b[0m \u001b[0;34m=\u001b[0m \u001b[0;36m2000\u001b[0m\u001b[0;34m\u001b[0m\u001b[0;34m\u001b[0m\u001b[0m\n\u001b[0;32m----> 2\u001b[0;31m \u001b[0mdt_list\u001b[0m \u001b[0;34m=\u001b[0m \u001b[0;34m[\u001b[0m\u001b[0mdt\u001b[0m\u001b[0;34m/\u001b[0m\u001b[0mx\u001b[0m \u001b[0;32mfor\u001b[0m \u001b[0mx\u001b[0m \u001b[0;32min\u001b[0m \u001b[0;34m[\u001b[0m\u001b[0;36m1\u001b[0m\u001b[0;34m,\u001b[0m\u001b[0;36m2\u001b[0m\u001b[0;34m,\u001b[0m\u001b[0;36m3\u001b[0m\u001b[0;34m,\u001b[0m\u001b[0;36m4\u001b[0m\u001b[0;34m,\u001b[0m\u001b[0;36m6\u001b[0m\u001b[0;34m,\u001b[0m\u001b[0;36m8\u001b[0m\u001b[0;34m,\u001b[0m\u001b[0;36m12\u001b[0m\u001b[0;34m,\u001b[0m\u001b[0;36m16\u001b[0m\u001b[0;34m,\u001b[0m\u001b[0;36m24\u001b[0m\u001b[0;34m]\u001b[0m\u001b[0;34m]\u001b[0m\u001b[0;34m\u001b[0m\u001b[0;34m\u001b[0m\u001b[0m\n\u001b[0m\u001b[1;32m      3\u001b[0m \u001b[0mtimesteps\u001b[0m \u001b[0;34m=\u001b[0m \u001b[0;34m[\u001b[0m\u001b[0mint\u001b[0m\u001b[0;34m(\u001b[0m\u001b[0mnp\u001b[0m\u001b[0;34m.\u001b[0m\u001b[0mceil\u001b[0m\u001b[0;34m(\u001b[0m\u001b[0minitialNt\u001b[0m \u001b[0;34m*\u001b[0m \u001b[0mdt_list\u001b[0m\u001b[0;34m[\u001b[0m\u001b[0;36m0\u001b[0m\u001b[0;34m]\u001b[0m \u001b[0;34m/\u001b[0m \u001b[0mtimestep\u001b[0m\u001b[0;34m)\u001b[0m\u001b[0;34m)\u001b[0m \u001b[0;32mfor\u001b[0m \u001b[0mtimestep\u001b[0m \u001b[0;32min\u001b[0m \u001b[0mdt_list\u001b[0m\u001b[0;34m]\u001b[0m\u001b[0;34m\u001b[0m\u001b[0;34m\u001b[0m\u001b[0m\n\u001b[1;32m      4\u001b[0m \u001b[0;32mimport\u001b[0m \u001b[0msubprocess\u001b[0m\u001b[0;34m\u001b[0m\u001b[0;34m\u001b[0m\u001b[0m\n\u001b[1;32m      5\u001b[0m \u001b[0mbin_name\u001b[0m \u001b[0;34m=\u001b[0m \u001b[0mos\u001b[0m\u001b[0;34m.\u001b[0m\u001b[0mpath\u001b[0m\u001b[0;34m.\u001b[0m\u001b[0mjoin\u001b[0m\u001b[0;34m(\u001b[0m\u001b[0mBIN_PATH\u001b[0m\u001b[0;34m,\u001b[0m \u001b[0;34m\"Alliance_alpha_1_0\"\u001b[0m\u001b[0;34m)\u001b[0m\u001b[0;34m\u001b[0m\u001b[0;34m\u001b[0m\u001b[0m\n",
      "\u001b[0;32m/tmp/ipykernel_6955/786654158.py\u001b[0m in \u001b[0;36m<listcomp>\u001b[0;34m(.0)\u001b[0m\n\u001b[1;32m      1\u001b[0m \u001b[0minitialNt\u001b[0m \u001b[0;34m=\u001b[0m \u001b[0;36m2000\u001b[0m\u001b[0;34m\u001b[0m\u001b[0;34m\u001b[0m\u001b[0m\n\u001b[0;32m----> 2\u001b[0;31m \u001b[0mdt_list\u001b[0m \u001b[0;34m=\u001b[0m \u001b[0;34m[\u001b[0m\u001b[0mdt\u001b[0m\u001b[0;34m/\u001b[0m\u001b[0mx\u001b[0m \u001b[0;32mfor\u001b[0m \u001b[0mx\u001b[0m \u001b[0;32min\u001b[0m \u001b[0;34m[\u001b[0m\u001b[0;36m1\u001b[0m\u001b[0;34m,\u001b[0m\u001b[0;36m2\u001b[0m\u001b[0;34m,\u001b[0m\u001b[0;36m3\u001b[0m\u001b[0;34m,\u001b[0m\u001b[0;36m4\u001b[0m\u001b[0;34m,\u001b[0m\u001b[0;36m6\u001b[0m\u001b[0;34m,\u001b[0m\u001b[0;36m8\u001b[0m\u001b[0;34m,\u001b[0m\u001b[0;36m12\u001b[0m\u001b[0;34m,\u001b[0m\u001b[0;36m16\u001b[0m\u001b[0;34m,\u001b[0m\u001b[0;36m24\u001b[0m\u001b[0;34m]\u001b[0m\u001b[0;34m]\u001b[0m\u001b[0;34m\u001b[0m\u001b[0;34m\u001b[0m\u001b[0m\n\u001b[0m\u001b[1;32m      3\u001b[0m \u001b[0mtimesteps\u001b[0m \u001b[0;34m=\u001b[0m \u001b[0;34m[\u001b[0m\u001b[0mint\u001b[0m\u001b[0;34m(\u001b[0m\u001b[0mnp\u001b[0m\u001b[0;34m.\u001b[0m\u001b[0mceil\u001b[0m\u001b[0;34m(\u001b[0m\u001b[0minitialNt\u001b[0m \u001b[0;34m*\u001b[0m \u001b[0mdt_list\u001b[0m\u001b[0;34m[\u001b[0m\u001b[0;36m0\u001b[0m\u001b[0;34m]\u001b[0m \u001b[0;34m/\u001b[0m \u001b[0mtimestep\u001b[0m\u001b[0;34m)\u001b[0m\u001b[0;34m)\u001b[0m \u001b[0;32mfor\u001b[0m \u001b[0mtimestep\u001b[0m \u001b[0;32min\u001b[0m \u001b[0mdt_list\u001b[0m\u001b[0;34m]\u001b[0m\u001b[0;34m\u001b[0m\u001b[0;34m\u001b[0m\u001b[0m\n\u001b[1;32m      4\u001b[0m \u001b[0;32mimport\u001b[0m \u001b[0msubprocess\u001b[0m\u001b[0;34m\u001b[0m\u001b[0;34m\u001b[0m\u001b[0m\n\u001b[1;32m      5\u001b[0m \u001b[0mbin_name\u001b[0m \u001b[0;34m=\u001b[0m \u001b[0mos\u001b[0m\u001b[0;34m.\u001b[0m\u001b[0mpath\u001b[0m\u001b[0;34m.\u001b[0m\u001b[0mjoin\u001b[0m\u001b[0;34m(\u001b[0m\u001b[0mBIN_PATH\u001b[0m\u001b[0;34m,\u001b[0m \u001b[0;34m\"Alliance_alpha_1_0\"\u001b[0m\u001b[0;34m)\u001b[0m\u001b[0;34m\u001b[0m\u001b[0;34m\u001b[0m\u001b[0m\n",
      "\u001b[0;31mNameError\u001b[0m: name 'dt' is not defined"
     ]
    }
   ],
   "source": [
    "initialNt = 2000\n",
    "dt_list = [dt/x for x in [1,2,3,4,6,8,12,16,24]]\n",
    "timesteps = [int(np.ceil(initialNt * dt_list[0] / timestep)) for timestep in dt_list]\n",
    "import subprocess\n",
    "bin_name = os.path.join(BIN_PATH, \"Alliance_alpha_1_0\")\n",
    "for i in range(len(dt_list)):\n",
    "    dt_i = dt_list[i]\n",
    "    Nt = timesteps[i]\n",
    "    dic_all[\"solver\"][\"dt\"] = dt_i\n",
    "    dic_all[\"solver\"][\"timesteps\"] = Nt\n",
    "    parameter_filename = os.path.join(SIM_PATH,f\"parameters_{i}.txt\")\n",
    "    createParameterFile(parameter_filename,dic_all)\n",
    "    subprocess.call(f\"mpiexec -n 16 {bin_name} -f {parameter_filename} > sim_{i}.log\", shell = True)\n",
    "    print(f\"completed {i} sim\")"
   ]
  },
  {
   "cell_type": "code",
   "execution_count": 36,
   "metadata": {},
   "outputs": [
    {
     "data": {
      "text/plain": [
       "[0.00011443646286434726,\n",
       " 5.721823143217363e-05,\n",
       " 3.814548762144909e-05,\n",
       " 2.8609115716086815e-05,\n",
       " 1.9072743810724543e-05,\n",
       " 1.4304557858043408e-05,\n",
       " 9.536371905362272e-06,\n",
       " 7.152278929021704e-06,\n",
       " 4.768185952681136e-06]"
      ]
     },
     "execution_count": 36,
     "metadata": {},
     "output_type": "execute_result"
    }
   ],
   "source": [
    "dt_list"
   ]
  },
  {
   "cell_type": "code",
   "execution_count": 15,
   "metadata": {},
   "outputs": [],
   "source": [
    "dt_list = np.array([0.00011443646286434726,\n",
    " 5.721823143217363e-05,\n",
    " 3.814548762144909e-05,\n",
    " 2.8609115716086815e-05,\n",
    " 1.9072743810724543e-05,\n",
    " 1.4304557858043408e-05,\n",
    " 9.536371905362272e-06,\n",
    " 7.152278929021704e-06,\n",
    " 4.768185952681136e-06])"
   ]
  },
  {
   "cell_type": "code",
   "execution_count": 16,
   "metadata": {},
   "outputs": [],
   "source": [
    "lines = []\n",
    "for i in range(len(dt_list)):\n",
    "    with open(f\"sim_{i}.log\") as f:\n",
    "        lines.append(f.readlines()[-1])"
   ]
  },
  {
   "cell_type": "code",
   "execution_count": 17,
   "metadata": {},
   "outputs": [
    {
     "data": {
      "text/plain": [
       "['W = 0.8375083150466054\\n',\n",
       " 'W = 0.9207162555164260\\n',\n",
       " 'W = 0.9638066382406074\\n',\n",
       " 'W = 0.9834826445223194\\n',\n",
       " 'W = 0.9973116423775787\\n',\n",
       " 'W = 0.9994003375255328\\n',\n",
       " 'W = 0.9998791308847621\\n',\n",
       " 'W = 0.9999809756281630\\n',\n",
       " 'W = 0.9999962060986749\\n']"
      ]
     },
     "execution_count": 17,
     "metadata": {},
     "output_type": "execute_result"
    }
   ],
   "source": [
    "lines"
   ]
  },
  {
   "cell_type": "code",
   "execution_count": 18,
   "metadata": {},
   "outputs": [],
   "source": [
    "W_last = []\n",
    "for line in lines:\n",
    "    W_last.append( float(line.split(\" \")[2]))"
   ]
  },
  {
   "cell_type": "code",
   "execution_count": 19,
   "metadata": {},
   "outputs": [],
   "source": [
    "W_last = np.array(W_last)"
   ]
  },
  {
   "cell_type": "code",
   "execution_count": 22,
   "metadata": {},
   "outputs": [
    {
     "data": {
      "image/png": "[encoded data removed]",
      "text/plain": [
       "<Figure size 432x288 with 1 Axes>"
      ]
     },
     "metadata": {
      "needs_background": "light"
     },
     "output_type": "display_data"
    }
   ],
   "source": [
    "import matplotlib\n",
    "fontsize = 12\n",
    "matplotlib.rcParams.update({'font.size': fontsize})\n",
    "matplotlib.rc('axes', titlesize=fontsize)\n",
    "plt.loglog(dt_list/dt_list[0],1 - W_last,color = 'k',linewidth = 2,marker = \"o\")\n",
    "plt.loglog(dt_list/dt_list[0], (1 - W_last)[-1]/np.array(dt_list[-1])**5*np.array(dt_list)**5*0.8,linestyle = '--',color = [0.25,0.25,0.25],linewidth = 2)\n",
    "plt.xlim([4e-2,1])\n",
    "plt.ylim([1e-6,1])\n",
    "plt.xlabel(r\"$dt/dt_{max}$\")\n",
    "plt.ylabel(r\"$\\epsilon(W/W_{0})$\")\n",
    "plt.savefig(\"convergence.pdf\", bbox_inches='tight')"
   ]
  },
  {
   "cell_type": "markdown",
   "metadata": {
    "tags": []
   },
   "source": [
    "# NONLINEAR ENERGY GROWTH TEST"
   ]
  },
  {
   "cell_type": "code",
   "execution_count": null,
   "metadata": {},
   "outputs": [],
   "source": [
    "from scipy.optimize import fsolve\n",
    "from matplotlib import pyplot as plt"
   ]
  },
  {
   "cell_type": "code",
   "execution_count": 75,
   "metadata": {},
   "outputs": [],
   "source": [
    "# prepare work folder \n",
    "HOME_PATH = \"/home\"\n",
    "USER_PATH = \"alcauchy\"\n",
    "PROJECTS_PATH = \"CLionProjects\"\n",
    "PROJECT_FOLDER = \"Alliance_alpha_1.0\"\n",
    "WORK_FOLDER = \"wrk\"\n",
    "BIN_FOLDER = \"bin\"\n",
    "SIM_FOLDER = \"nonlinear_growth\"\n",
    "SIM_PATH = os.path.join(HOME_PATH,\n",
    "                        USER_PATH,\n",
    "                        PROJECTS_PATH,\n",
    "                        PROJECT_FOLDER,\n",
    "                        WORK_FOLDER,\n",
    "                        SIM_FOLDER)\n",
    "BIN_PATH = os.path.join(HOME_PATH,\n",
    "                        USER_PATH,\n",
    "                        PROJECTS_PATH,\n",
    "                        PROJECT_FOLDER,\n",
    "                        BIN_FOLDER)\n"
   ]
  },
  {
   "cell_type": "code",
   "execution_count": 76,
   "metadata": {},
   "outputs": [
    {
     "data": {
      "text/plain": [
       "'/home/alcauchy/CLionProjects/Alliance_alpha_1.0/bin'"
      ]
     },
     "execution_count": 76,
     "metadata": {},
     "output_type": "execute_result"
    }
   ],
   "source": [
    "BIN_PATH"
   ]
  },
  {
   "cell_type": "code",
   "execution_count": 77,
   "metadata": {},
   "outputs": [
    {
     "name": "stdout",
     "output_type": "stream",
     "text": [
      "noice\n"
     ]
    }
   ],
   "source": [
    "if os.path.isdir(SIM_PATH):\n",
    "    print(\"noice\")"
   ]
  },
  {
   "cell_type": "code",
   "execution_count": 78,
   "metadata": {},
   "outputs": [],
   "source": [
    "nkx = 64\n",
    "nky = 64\n",
    "nz = 16\n",
    "nm = 16\n",
    "m = np.array([1,1])\n",
    "T = np.array([1,1])\n",
    "vT = np.sqrt(2*T/m)\n",
    "dt = 0.5\n",
    "kz = 2 * np.pi * np.arange(nz)"
   ]
  },
  {
   "cell_type": "code",
   "execution_count": 83,
   "metadata": {},
   "outputs": [
    {
     "data": {
      "text/plain": [
       "{'nkx': 64, 'nky': 64, 'nz': 16, 'nm': 16, 'nl': 2, 'ns': 2}"
      ]
     },
     "execution_count": 83,
     "metadata": {},
     "output_type": "execute_result"
    }
   ],
   "source": [
    "dic_box"
   ]
  },
  {
   "cell_type": "code",
   "execution_count": 82,
   "metadata": {},
   "outputs": [],
   "source": [
    "dic_box = {\n",
    "    \"nkx\" : nkx,\n",
    "    \"nky\" : nky,\n",
    "    \"nz\" : nz,\n",
    "    \"nm\"  : nm,\n",
    "    \"nl\"  : 2,\n",
    "    \"ns\"  : 2\n",
    "}\n",
    "\n",
    "dic_particles = {\n",
    "    \"particles\" : 2,\n",
    "    \"density\"   : [1,1],\n",
    "    \"charge\"    : [-1, 1],\n",
    "    \"mass\"      : m,\n",
    "    \"T\"         : T\n",
    "}\n",
    "\n",
    "dic_initial = {\n",
    "    \"initial\" : 1,\n",
    "    \"simulation_name\" : \"h_chk.h5\"\n",
    "}\n",
    "\n",
    "dic_solver = {\n",
    "    \"timesteps\" : 1000,\n",
    "    \"dt\"        : dt\n",
    "}\n",
    "\n",
    "dic_saving = {\n",
    "    \"save_directory\" : \"test\",\n",
    "    \"checkpoints\" : 2,\n",
    "    \"iter_checkpoint\" : 100,\n",
    "    \"save_distribution\" : 0,\n",
    "    \"iter_distribution\" : 100,\n",
    "    \"save_EMfield\" : 0,\n",
    "    \"iter_EMfield\" : 100,\n",
    "    \"save_diagnostics\" : 1,\n",
    "    \"iter_diagnostics\" : 10\n",
    "}\n",
    "\n",
    "dic_systProp = {\n",
    "    \"electromagnetic\" : 1,\n",
    "    \"adiabatic\" : 0, \n",
    "    \"beta\" : 1.0\t\n",
    "}\n",
    "\n",
    "dic_spectr = {\n",
    "    \"compute_k\" : 10,\n",
    "    \"compute_m\" : 10,\n",
    "    \"k_shells\" : 30,\n",
    "    \"first_shell\" : 0.0,\n",
    "    \"last_shell\" : 2.0\n",
    "}"
   ]
  },
  {
   "cell_type": "code",
   "execution_count": 80,
   "metadata": {},
   "outputs": [],
   "source": [
    "dic_all = {\n",
    "    \"sim_box\" : dic_box,\n",
    "    \"particles\" : dic_particles,\n",
    "    \"initial\" : dic_initial,\n",
    "    \"solver\" : dic_solver,\n",
    "    \"save\" : dic_saving,\n",
    "    \"prop\" : dic_systProp,\n",
    "    \"spectre\" : dic_spectr\n",
    "}"
   ]
  },
  {
   "cell_type": "code",
   "execution_count": 84,
   "metadata": {
    "tags": []
   },
   "outputs": [
    {
     "name": "stdout",
     "output_type": "stream",
     "text": [
      "[0.5, 0.25, 0.16666666666666666, 0.125, 0.08333333333333333, 0.0625]\n",
      "[1000, 2000, 3000, 4000, 6000, 8000]\n"
     ]
    },
    {
     "ename": "KeyboardInterrupt",
     "evalue": "",
     "output_type": "error",
     "traceback": [
      "\u001b[0;31m---------------------------------------------------------------------------\u001b[0m",
      "\u001b[0;31mKeyboardInterrupt\u001b[0m                         Traceback (most recent call last)",
      "\u001b[0;32m/tmp/ipykernel_3165/1152820712.py\u001b[0m in \u001b[0;36m<module>\u001b[0;34m\u001b[0m\n\u001b[1;32m     17\u001b[0m \u001b[0;34m\u001b[0m\u001b[0m\n\u001b[1;32m     18\u001b[0m     \u001b[0mcreateParameterFile\u001b[0m\u001b[0;34m(\u001b[0m\u001b[0mparameter_filename\u001b[0m\u001b[0;34m,\u001b[0m\u001b[0mdic_all\u001b[0m\u001b[0;34m)\u001b[0m\u001b[0;34m\u001b[0m\u001b[0;34m\u001b[0m\u001b[0m\n\u001b[0;32m---> 19\u001b[0;31m     \u001b[0msubprocess\u001b[0m\u001b[0;34m.\u001b[0m\u001b[0mcall\u001b[0m\u001b[0;34m(\u001b[0m\u001b[0;34mf\"mpiexec -n {procNum} {bin_name} -f {parameter_filename} > sim_{i}.log\"\u001b[0m\u001b[0;34m,\u001b[0m \u001b[0mshell\u001b[0m \u001b[0;34m=\u001b[0m \u001b[0;32mTrue\u001b[0m\u001b[0;34m)\u001b[0m\u001b[0;34m\u001b[0m\u001b[0;34m\u001b[0m\u001b[0m\n\u001b[0m\u001b[1;32m     20\u001b[0m     \u001b[0;32mif\u001b[0m \u001b[0mos\u001b[0m\u001b[0;34m.\u001b[0m\u001b[0mpath\u001b[0m\u001b[0;34m.\u001b[0m\u001b[0mexists\u001b[0m\u001b[0;34m(\u001b[0m\u001b[0mparameterH5_filename\u001b[0m\u001b[0;34m)\u001b[0m\u001b[0;34m:\u001b[0m\u001b[0;34m\u001b[0m\u001b[0;34m\u001b[0m\u001b[0m\n\u001b[1;32m     21\u001b[0m         \u001b[0mparametersH5_newName\u001b[0m \u001b[0;34m=\u001b[0m \u001b[0mos\u001b[0m\u001b[0;34m.\u001b[0m\u001b[0mpath\u001b[0m\u001b[0;34m.\u001b[0m\u001b[0mjoin\u001b[0m\u001b[0;34m(\u001b[0m\u001b[0mSIM_PATH\u001b[0m\u001b[0;34m,\u001b[0m\u001b[0;34mf\"dt_{dt_i}.h5\"\u001b[0m\u001b[0;34m)\u001b[0m\u001b[0;34m\u001b[0m\u001b[0;34m\u001b[0m\u001b[0m\n",
      "\u001b[0;32m~/anaconda3/lib/python3.9/subprocess.py\u001b[0m in \u001b[0;36mcall\u001b[0;34m(timeout, *popenargs, **kwargs)\u001b[0m\n\u001b[1;32m    349\u001b[0m     \u001b[0;32mwith\u001b[0m \u001b[0mPopen\u001b[0m\u001b[0;34m(\u001b[0m\u001b[0;34m*\u001b[0m\u001b[0mpopenargs\u001b[0m\u001b[0;34m,\u001b[0m \u001b[0;34m**\u001b[0m\u001b[0mkwargs\u001b[0m\u001b[0;34m)\u001b[0m \u001b[0;32mas\u001b[0m \u001b[0mp\u001b[0m\u001b[0;34m:\u001b[0m\u001b[0;34m\u001b[0m\u001b[0;34m\u001b[0m\u001b[0m\n\u001b[1;32m    350\u001b[0m         \u001b[0;32mtry\u001b[0m\u001b[0;34m:\u001b[0m\u001b[0;34m\u001b[0m\u001b[0;34m\u001b[0m\u001b[0m\n\u001b[0;32m--> 351\u001b[0;31m             \u001b[0;32mreturn\u001b[0m \u001b[0mp\u001b[0m\u001b[0;34m.\u001b[0m\u001b[0mwait\u001b[0m\u001b[0;34m(\u001b[0m\u001b[0mtimeout\u001b[0m\u001b[0;34m=\u001b[0m\u001b[0mtimeout\u001b[0m\u001b[0;34m)\u001b[0m\u001b[0;34m\u001b[0m\u001b[0;34m\u001b[0m\u001b[0m\n\u001b[0m\u001b[1;32m    352\u001b[0m         \u001b[0;32mexcept\u001b[0m\u001b[0;34m:\u001b[0m  \u001b[0;31m# Including KeyboardInterrupt, wait handled that.\u001b[0m\u001b[0;34m\u001b[0m\u001b[0;34m\u001b[0m\u001b[0m\n\u001b[1;32m    353\u001b[0m             \u001b[0mp\u001b[0m\u001b[0;34m.\u001b[0m\u001b[0mkill\u001b[0m\u001b[0;34m(\u001b[0m\u001b[0;34m)\u001b[0m\u001b[0;34m\u001b[0m\u001b[0;34m\u001b[0m\u001b[0m\n",
      "\u001b[0;32m~/anaconda3/lib/python3.9/subprocess.py\u001b[0m in \u001b[0;36mwait\u001b[0;34m(self, timeout)\u001b[0m\n\u001b[1;32m   1187\u001b[0m             \u001b[0mendtime\u001b[0m \u001b[0;34m=\u001b[0m \u001b[0m_time\u001b[0m\u001b[0;34m(\u001b[0m\u001b[0;34m)\u001b[0m \u001b[0;34m+\u001b[0m \u001b[0mtimeout\u001b[0m\u001b[0;34m\u001b[0m\u001b[0;34m\u001b[0m\u001b[0m\n\u001b[1;32m   1188\u001b[0m         \u001b[0;32mtry\u001b[0m\u001b[0;34m:\u001b[0m\u001b[0;34m\u001b[0m\u001b[0;34m\u001b[0m\u001b[0m\n\u001b[0;32m-> 1189\u001b[0;31m             \u001b[0;32mreturn\u001b[0m \u001b[0mself\u001b[0m\u001b[0;34m.\u001b[0m\u001b[0m_wait\u001b[0m\u001b[0;34m(\u001b[0m\u001b[0mtimeout\u001b[0m\u001b[0;34m=\u001b[0m\u001b[0mtimeout\u001b[0m\u001b[0;34m)\u001b[0m\u001b[0;34m\u001b[0m\u001b[0;34m\u001b[0m\u001b[0m\n\u001b[0m\u001b[1;32m   1190\u001b[0m         \u001b[0;32mexcept\u001b[0m \u001b[0mKeyboardInterrupt\u001b[0m\u001b[0;34m:\u001b[0m\u001b[0;34m\u001b[0m\u001b[0;34m\u001b[0m\u001b[0m\n\u001b[1;32m   1191\u001b[0m             \u001b[0;31m# https://bugs.python.org/issue25942\u001b[0m\u001b[0;34m\u001b[0m\u001b[0;34m\u001b[0m\u001b[0m\n",
      "\u001b[0;32m~/anaconda3/lib/python3.9/subprocess.py\u001b[0m in \u001b[0;36m_wait\u001b[0;34m(self, timeout)\u001b[0m\n\u001b[1;32m   1915\u001b[0m                         \u001b[0;32mif\u001b[0m \u001b[0mself\u001b[0m\u001b[0;34m.\u001b[0m\u001b[0mreturncode\u001b[0m \u001b[0;32mis\u001b[0m \u001b[0;32mnot\u001b[0m \u001b[0;32mNone\u001b[0m\u001b[0;34m:\u001b[0m\u001b[0;34m\u001b[0m\u001b[0;34m\u001b[0m\u001b[0m\n\u001b[1;32m   1916\u001b[0m                             \u001b[0;32mbreak\u001b[0m  \u001b[0;31m# Another thread waited.\u001b[0m\u001b[0;34m\u001b[0m\u001b[0;34m\u001b[0m\u001b[0m\n\u001b[0;32m-> 1917\u001b[0;31m                         \u001b[0;34m(\u001b[0m\u001b[0mpid\u001b[0m\u001b[0;34m,\u001b[0m \u001b[0msts\u001b[0m\u001b[0;34m)\u001b[0m \u001b[0;34m=\u001b[0m \u001b[0mself\u001b[0m\u001b[0;34m.\u001b[0m\u001b[0m_try_wait\u001b[0m\u001b[0;34m(\u001b[0m\u001b[0;36m0\u001b[0m\u001b[0;34m)\u001b[0m\u001b[0;34m\u001b[0m\u001b[0;34m\u001b[0m\u001b[0m\n\u001b[0m\u001b[1;32m   1918\u001b[0m                         \u001b[0;31m# Check the pid and loop as waitpid has been known to\u001b[0m\u001b[0;34m\u001b[0m\u001b[0;34m\u001b[0m\u001b[0m\n\u001b[1;32m   1919\u001b[0m                         \u001b[0;31m# return 0 even without WNOHANG in odd situations.\u001b[0m\u001b[0;34m\u001b[0m\u001b[0;34m\u001b[0m\u001b[0m\n",
      "\u001b[0;32m~/anaconda3/lib/python3.9/subprocess.py\u001b[0m in \u001b[0;36m_try_wait\u001b[0;34m(self, wait_flags)\u001b[0m\n\u001b[1;32m   1873\u001b[0m             \u001b[0;34m\"\"\"All callers to this function MUST hold self._waitpid_lock.\"\"\"\u001b[0m\u001b[0;34m\u001b[0m\u001b[0;34m\u001b[0m\u001b[0m\n\u001b[1;32m   1874\u001b[0m             \u001b[0;32mtry\u001b[0m\u001b[0;34m:\u001b[0m\u001b[0;34m\u001b[0m\u001b[0;34m\u001b[0m\u001b[0m\n\u001b[0;32m-> 1875\u001b[0;31m                 \u001b[0;34m(\u001b[0m\u001b[0mpid\u001b[0m\u001b[0;34m,\u001b[0m \u001b[0msts\u001b[0m\u001b[0;34m)\u001b[0m \u001b[0;34m=\u001b[0m \u001b[0mos\u001b[0m\u001b[0;34m.\u001b[0m\u001b[0mwaitpid\u001b[0m\u001b[0;34m(\u001b[0m\u001b[0mself\u001b[0m\u001b[0;34m.\u001b[0m\u001b[0mpid\u001b[0m\u001b[0;34m,\u001b[0m \u001b[0mwait_flags\u001b[0m\u001b[0;34m)\u001b[0m\u001b[0;34m\u001b[0m\u001b[0;34m\u001b[0m\u001b[0m\n\u001b[0m\u001b[1;32m   1876\u001b[0m             \u001b[0;32mexcept\u001b[0m \u001b[0mChildProcessError\u001b[0m\u001b[0;34m:\u001b[0m\u001b[0;34m\u001b[0m\u001b[0;34m\u001b[0m\u001b[0m\n\u001b[1;32m   1877\u001b[0m                 \u001b[0;31m# This happens if SIGCLD is set to be ignored or waiting\u001b[0m\u001b[0;34m\u001b[0m\u001b[0;34m\u001b[0m\u001b[0m\n",
      "\u001b[0;31mKeyboardInterrupt\u001b[0m: "
     ]
    }
   ],
   "source": [
    "parameterH5_filename = os.path.join(f\"parameters.h5\")\n",
    "initialNt = 1000\n",
    "dt = 0.5\n",
    "procNum = 16\n",
    "dt_list = [dt/x for x in [1,2,3,4,6,8]]\n",
    "print(dt_list)\n",
    "timesteps = [int(np.ceil(initialNt * dt_list[0] / timestep)) for timestep in dt_list]\n",
    "print(timesteps)\n",
    "import subprocess\n",
    "bin_name = os.path.join(BIN_PATH, \"Alliance_alpha_1_0\")\n",
    "for i in range(len(dt_list)):\n",
    "    dt_i = dt_list[i]\n",
    "    Nt = timesteps[i]\n",
    "    dic_all[\"solver\"][\"dt\"] = dt_i\n",
    "    dic_all[\"solver\"][\"timesteps\"] = Nt\n",
    "    parameter_filename = os.path.join(SIM_PATH,f\"parameters_{i}.txt\")\n",
    "    \n",
    "    createParameterFile(parameter_filename,dic_all)\n",
    "    subprocess.call(f\"mpiexec -n {procNum} {bin_name} -f {parameter_filename} > sim_{i}.log\", shell = True)\n",
    "    if os.path.exists(parameterH5_filename):\n",
    "        parametersH5_newName = os.path.join(SIM_PATH,f\"dt_{dt_i}.h5\")\n",
    "        os.rename(parameterH5_filename,parametersH5_newName)\n",
    "    print(f\"completed {i} sim\")"
   ]
  },
  {
   "cell_type": "code",
   "execution_count": null,
   "metadata": {},
   "outputs": [],
   "source": [
    "dt_list"
   ]
  },
  {
   "cell_type": "code",
   "execution_count": 37,
   "metadata": {},
   "outputs": [],
   "source": [
    "lines = []\n",
    "for i in range(len(dt_list)):\n",
    "    with open(f\"sim_{i}.log\") as f:\n",
    "        lines.append(f.readlines()[-1])"
   ]
  },
  {
   "cell_type": "code",
   "execution_count": 38,
   "metadata": {},
   "outputs": [
    {
     "data": {
      "text/plain": [
       "['W = 0.8375083150466054\\n',\n",
       " 'W = 0.9207162555164260\\n',\n",
       " 'W = 0.9638066382406074\\n',\n",
       " 'W = 0.9834826445223194\\n',\n",
       " 'W = 0.9973116423775787\\n',\n",
       " 'W = 0.9994003375255328\\n',\n",
       " 'W = 0.9998791308847621\\n',\n",
       " 'W = 0.9999809756281630\\n',\n",
       " 'W = 0.9999962060986749\\n']"
      ]
     },
     "execution_count": 38,
     "metadata": {},
     "output_type": "execute_result"
    }
   ],
   "source": [
    "lines"
   ]
  },
  {
   "cell_type": "code",
   "execution_count": 39,
   "metadata": {},
   "outputs": [],
   "source": [
    "W_last = []\n",
    "for line in lines:\n",
    "    W_last.append( float(line.split(\" \")[2]))"
   ]
  },
  {
   "cell_type": "code",
   "execution_count": 40,
   "metadata": {},
   "outputs": [],
   "source": [
    "W_last = np.array(W_last)"
   ]
  },
  {
   "cell_type": "code",
   "execution_count": 48,
   "metadata": {},
   "outputs": [
    {
     "data": {
      "image/png": "[encoded data removed]",
      "text/plain": [
       "<Figure size 432x288 with 1 Axes>"
      ]
     },
     "metadata": {
      "needs_background": "light"
     },
     "output_type": "display_data"
    }
   ],
   "source": [
    "import matplotlib\n",
    "fontsize = 12\n",
    "matplotlib.rcParams.update({'font.size': fontsize})\n",
    "matplotlib.rc('axes', titlesize=fontsize)\n",
    "plt.loglog(dt_list/dt_list[0],1 - W_last,color = 'k',linewidth = 2,marker = \"o\")\n",
    "plt.loglog(dt_list/dt_list[0], (1 - W_last)[-1]/np.array(dt_list[-1])**5*np.array(dt_list)**5*0.8,linestyle = '--',color = [0.25,0.25,0.25],linewidth = 2)\n",
    "plt.xlim([4e-2,1])\n",
    "plt.ylim([1e-6,1])\n",
    "plt.xlabel(r\"$dt/dt_{max}$\")\n",
    "plt.ylabel(r\"$\\epsilon(W/W_{0})$\")\n",
    "plt.savefig(\"convergence.eps\")"
   ]
  },
  {
   "cell_type": "code",
   "execution_count": 42,
   "metadata": {},
   "outputs": [],
   "source": [
    "x = np.linspace(0,10,1000)"
   ]
  },
  {
   "cell_type": "code",
   "execution_count": 43,
   "metadata": {},
   "outputs": [
    {
     "data": {
      "text/plain": [
       "[<matplotlib.lines.Line2D at 0x7f82a5efbbe0>]"
      ]
     },
     "execution_count": 43,
     "metadata": {},
     "output_type": "execute_result"
    },
    {
     "data": {
      "image/png": "[encoded data removed]",
      "text/plain": [
       "<Figure size 432x288 with 1 Axes>"
      ]
     },
     "metadata": {
      "needs_background": "light"
     },
     "output_type": "display_data"
    }
   ],
   "source": [
    "lam = 1.j*0.0065\n",
    "plt.plot(x,np.abs(1+x*lam+0.5*(lam*x)**2+1/6*(lam*x)**3+1/24*(lam*x)**4)-1)\n"
   ]
  },
  {
   "cell_type": "code",
   "execution_count": 44,
   "metadata": {},
   "outputs": [
    {
     "data": {
      "text/plain": [
       "0.0005446623093681918"
      ]
     },
     "execution_count": 44,
     "metadata": {},
     "output_type": "execute_result"
    }
   ],
   "source": [
    "1/1836"
   ]
  },
  {
   "cell_type": "code",
   "execution_count": null,
   "metadata": {},
   "outputs": [],
   "source": []
  }
 ],
 "metadata": {
  "kernelspec": {
   "display_name": "Python 3 (ipykernel)",
   "language": "python",
   "name": "python3"
  },
  "language_info": {
   "codemirror_mode": {
    "name": "ipython",
    "version": 3
   },
   "file_extension": ".py",
   "mimetype": "text/x-python",
   "name": "python",
   "nbconvert_exporter": "python",
   "pygments_lexer": "ipython3",
   "version": "3.9.7"
  }
 },
 "nbformat": 4,
 "nbformat_minor": 4
}
